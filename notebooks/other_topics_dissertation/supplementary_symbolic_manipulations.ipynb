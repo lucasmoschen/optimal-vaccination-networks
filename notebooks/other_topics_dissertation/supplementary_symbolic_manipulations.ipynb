{
 "cells": [
  {
   "cell_type": "code",
   "execution_count": 1,
   "id": "8d4577ef",
   "metadata": {},
   "outputs": [],
   "source": [
    "import sympy as sp\n",
    "import numpy as np"
   ]
  },
  {
   "cell_type": "code",
   "execution_count": 2,
   "id": "80b5711f",
   "metadata": {},
   "outputs": [],
   "source": [
    "S, E, I, R = sp.symbols('S E I R')\n",
    "beta, gamma, tau, n, r = sp.symbols('beta gamma tau n r')\n",
    "u = sp.symbols('u')\n",
    "lamb = sp.symbols('lambda')"
   ]
  },
  {
   "cell_type": "code",
   "execution_count": 3,
   "id": "3259a821",
   "metadata": {},
   "outputs": [],
   "source": [
    "A = sp.Matrix([[-beta*I - u, 0, -beta*S, 0, 0, 0],\n",
    "               [beta*I, -tau-u, beta*S, 0, 0, 0],\n",
    "               [0, tau, -gamma, 0, 0, 0],\n",
    "               [0, 0, gamma, -u,0,0],\n",
    "               [0,0,r,0,0,0],\n",
    "               [n*u,n*u,0,n*u,0,0]])\n",
    "#A = A.T\n",
    "Z = A.T - lamb*sp.eye(6)\n",
    "\n",
    "q1, q2, q3, q4, q5, q6 = sp.symbols('q_1 q_2 q_3 q_4 q_5 q_6')\n",
    "q = sp.Matrix([[q1, q2, q3, q4, q5, q6]])\n",
    "\n",
    "dE = beta*S*I - tau*E - u*E\n",
    "dI = tau*E - gamma*I"
   ]
  },
  {
   "cell_type": "code",
   "execution_count": 9,
   "id": "f0b4eb5b",
   "metadata": {},
   "outputs": [],
   "source": [
    "exp = -(beta*I+u+lamb)*(lamb+tau+u)*(lamb+gamma) + beta*tau*S*(u+lamb)"
   ]
  },
  {
   "cell_type": "code",
   "execution_count": 4,
   "id": "fec85dcf",
   "metadata": {},
   "outputs": [],
   "source": [
    "v1 = sp.Matrix([[0],[0],[tau],[0],[0],[-n*tau]])\n",
    "v2 = sp.Matrix([[0],[0],[0],[-gamma],[0],[n*gamma]])\n",
    "f_h1 = E*v1 + I*v2\n",
    "df_h1 = sp.Matrix([[0],[0],[tau*dE],[-gamma*dI], [0], [n*gamma*dI - n*tau*dE]])"
   ]
  },
  {
   "cell_type": "code",
   "execution_count": 5,
   "id": "9c4ce098",
   "metadata": {},
   "outputs": [],
   "source": [
    "v1 = sp.Matrix([[-S], [-E], [0], [-R], [0], [n*(S+E+R)]])\n",
    "v2 = df_h1-A@f_h1\n",
    "v3 = f_h1 \n",
    "v4 = sp.Matrix([[0],[0],[0],[1],[0],[0]])\n",
    "v5 = sp.Matrix([[0],[0],[0],[0],[1],[0]])\n",
    "v6 = sp.Matrix([[0],[0],[0],[0],[0],[1]])\n",
    "\n",
    "v7 = sp.Matrix([[-beta*S*I], [beta*S*I - tau*E], [tau*E - gamma*I], [gamma*I], [r*I], [0]])"
   ]
  },
  {
   "cell_type": "code",
   "execution_count": 6,
   "id": "711f7c59",
   "metadata": {},
   "outputs": [],
   "source": [
    "A = sp.Matrix([[v1, v2, v3, v4, v5, v6]])"
   ]
  },
  {
   "cell_type": "code",
   "execution_count": 7,
   "id": "fd606c22",
   "metadata": {},
   "outputs": [],
   "source": [
    "coef = sp.simplify(A.solve(v7))"
   ]
  },
  {
   "cell_type": "code",
   "execution_count": 8,
   "id": "e5b5ed69",
   "metadata": {},
   "outputs": [],
   "source": [
    "k, k1, k2, ft, alpha6, alpha7 = sp.symbols('k k_1 k_2 f_t alpha_6 alpha_7')\n",
    "f4 = k1*ft + k2"
   ]
  },
  {
   "cell_type": "markdown",
   "id": "5c0ee761",
   "metadata": {},
   "source": [
    "Is this constant? I beti it's not, but how to prove?"
   ]
  },
  {
   "cell_type": "code",
   "execution_count": 9,
   "id": "a2275548",
   "metadata": {},
   "outputs": [
    {
     "data": {
      "text/latex": [
       "$\\displaystyle \\frac{E^{3} \\alpha_{6} r \\tau^{2} + \\left(- \\alpha_{7} n + f_{t} k_{1} + k_{2}\\right) \\left(E^{3} R \\beta \\tau^{2} + 2 E^{3} \\gamma \\tau^{2} + E^{2} I^{2} \\beta \\gamma^{2} - E^{2} I^{2} \\beta \\gamma \\tau - 2 E^{2} I^{2} \\beta \\gamma u - 2 E^{2} I \\gamma^{2} \\tau + E^{2} I \\gamma \\tau^{2} + 2 E^{2} I \\gamma \\tau u + E I^{3} S \\beta^{2} \\gamma + E I^{2} S \\beta \\gamma^{2} - 2 E I^{2} S \\beta \\gamma \\tau - 2 E I^{2} S \\beta \\gamma u + I^{3} S^{2} \\beta^{2} \\gamma\\right)}{E^{2} \\beta \\tau \\left(E + S\\right)}$"
      ],
      "text/plain": [
       "(E**3*alpha_6*r*tau**2 + (-alpha_7*n + f_t*k_1 + k_2)*(E**3*R*beta*tau**2 + 2*E**3*gamma*tau**2 + E**2*I**2*beta*gamma**2 - E**2*I**2*beta*gamma*tau - 2*E**2*I**2*beta*gamma*u - 2*E**2*I*gamma**2*tau + E**2*I*gamma*tau**2 + 2*E**2*I*gamma*tau*u + E*I**3*S*beta**2*gamma + E*I**2*S*beta*gamma**2 - 2*E*I**2*S*beta*gamma*tau - 2*E*I**2*S*beta*gamma*u + I**3*S**2*beta**2*gamma))/(E**2*beta*tau*(E + S))"
      ]
     },
     "execution_count": 9,
     "metadata": {},
     "output_type": "execute_result"
    }
   ],
   "source": [
    "sp.simplify(coef[3]*f4 + coef[4]*alpha6 + coef[5]*alpha7)"
   ]
  },
  {
   "cell_type": "code",
   "execution_count": 10,
   "id": "21f5526b",
   "metadata": {},
   "outputs": [],
   "source": [
    "v1_ = sp.Matrix([[v1], [0]])\n",
    "v2_ = sp.Matrix([[v2], [0]])\n",
    "v3_ = sp.Matrix([[v3], [0]])\n",
    "v4_ = sp.Matrix([[v4], [f4]])\n",
    "v5_ = sp.Matrix([[v5], [alpha6]])\n",
    "v6_ = sp.Matrix([[v6], [alpha7]])\n",
    "v7_ = sp.Matrix([[v7], [k]])\n",
    "\n",
    "A_ = sp.Matrix([[v1_, v2_, v3_, v4_, v5_, v6_, v7_]])\n",
    "b = sp.zeros(7,1)"
   ]
  },
  {
   "cell_type": "code",
   "execution_count": 14,
   "id": "22ae3a8c",
   "metadata": {},
   "outputs": [
    {
     "data": {
      "text/latex": [
       "$\\displaystyle \\left[\\begin{matrix}0\\\\0\\\\0\\\\0\\\\0\\\\0\\\\0\\end{matrix}\\right]$"
      ],
      "text/plain": [
       "Matrix([\n",
       "[0],\n",
       "[0],\n",
       "[0],\n",
       "[0],\n",
       "[0],\n",
       "[0],\n",
       "[0]])"
      ]
     },
     "execution_count": 14,
     "metadata": {},
     "output_type": "execute_result"
    }
   ],
   "source": [
    "A_.transpose().solve(b)"
   ]
  },
  {
   "cell_type": "code",
   "execution_count": null,
   "id": "23d8ea4b",
   "metadata": {},
   "outputs": [],
   "source": []
  }
 ],
 "metadata": {
  "kernelspec": {
   "display_name": "NetworkControl",
   "language": "python",
   "name": "networkcontrol"
  },
  "language_info": {
   "codemirror_mode": {
    "name": "ipython",
    "version": 3
   },
   "file_extension": ".py",
   "mimetype": "text/x-python",
   "name": "python",
   "nbconvert_exporter": "python",
   "pygments_lexer": "ipython3",
   "version": "3.9.12"
  }
 },
 "nbformat": 4,
 "nbformat_minor": 5
}

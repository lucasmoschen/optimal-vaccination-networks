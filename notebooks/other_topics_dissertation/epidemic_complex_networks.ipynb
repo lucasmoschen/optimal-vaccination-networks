{
 "cells": [
  {
   "cell_type": "markdown",
   "id": "27e7b8a3",
   "metadata": {},
   "source": [
    "# Epidemic in complex networks\n",
    "\n",
    "Preliminary analysis of the result that in scale-free networks the epidemic threshold is very small, implying that the disease will always prevail. "
   ]
  },
  {
   "cell_type": "code",
   "execution_count": 1,
   "id": "2885d36e",
   "metadata": {},
   "outputs": [],
   "source": [
    "import networkx as nx\n",
    "import numpy as np\n",
    "import matplotlib.pyplot as plt\n",
    "\n",
    "from scipy.integrate import solve_ivp\n",
    "\n",
    "plt.rcParams['figure.dpi'] = 300\n",
    "plt.rcParams['savefig.dpi'] = 300"
   ]
  },
  {
   "cell_type": "markdown",
   "id": "f315574e",
   "metadata": {},
   "source": [
    "We first consider the simple SIS model."
   ]
  },
  {
   "cell_type": "code",
   "execution_count": 2,
   "id": "15c5bb30",
   "metadata": {},
   "outputs": [],
   "source": [
    "def dy_dt(t, y, beta, gamma):\n",
    "    dS_dt = -beta*y[0]*y[1] + gamma*y[1]\n",
    "    dI_dt = -dS_dt\n",
    "    return np.array([dS_dt, dI_dt])"
   ]
  },
  {
   "cell_type": "code",
   "execution_count": 3,
   "id": "6a6d989e",
   "metadata": {},
   "outputs": [],
   "source": [
    "def gillespie_sis(graph, beta, gamma, I0, T):\n",
    "    \n",
    "    # Initialize the model\n",
    "    S = graph.number_of_nodes() - I0\n",
    "    I = I0\n",
    "    t = 0\n",
    "\n",
    "    # Assign initial infected nodes randomly\n",
    "    infected_nodes = set(np.random.choice(graph.nodes, size=I0, replace=False))\n",
    "    nx.set_node_attributes(graph, values=dict.fromkeys(infected_nodes, 'i'), name='status')\n",
    "    nx.set_node_attributes(graph, values=dict.fromkeys(graph.nodes-infected_nodes, 's'), name='status')\n",
    "    \n",
    "    # Find the susceptible neighbors\n",
    "    susceptible_neighbors = {\n",
    "        infected_node: {neighbor for neighbor in graph.neighbors(infected_node)\n",
    "                        if graph.nodes[neighbor][\"status\"] != \"i\"}\n",
    "        for infected_node in infected_nodes\n",
    "    }\n",
    "    infected_nodes = {infected_node: len(susceptible_neighbors[infected_node]) for infected_node in infected_nodes}\n",
    "    N_SI = sum([infected_nodes[infected_node] for infected_node in infected_nodes])\n",
    "\n",
    "    # Initialize the results list\n",
    "    results = [(t, S, I)]\n",
    "\n",
    "    # Main loop\n",
    "    while t < T and I > 0:\n",
    "        # Calculate the propensities of events\n",
    "        print('t = {:.2f}'.format(t), end=\"\\r\")\n",
    "        a1 = beta * N_SI\n",
    "        a2 = gamma * I\n",
    "        a0 = a1 + a2\n",
    "\n",
    "        # Terminate if no more events can occur\n",
    "        if a0 == 0:\n",
    "            break\n",
    "\n",
    "        # Generate two random numbers\n",
    "        r1, r2 = np.random.rand(2)\n",
    "\n",
    "        # Determine the time to the next event\n",
    "        dt = -np.log(r1) / a0\n",
    "        t += dt\n",
    "\n",
    "        # Determine which event occurs\n",
    "        array_infected_nodes = np.array(list(infected_nodes.items()))\n",
    "        if r2 < a1 / a0:\n",
    "            # Infection event\n",
    "            infected_node = np.random.choice(array_infected_nodes[:,0], \n",
    "                                             p=array_infected_nodes[:,1]/array_infected_nodes[:,1].sum())\n",
    "            new_infected = np.random.choice(list(susceptible_neighbors[infected_node]))\n",
    "            graph.nodes[new_infected]['status'] = 'i'\n",
    "            infected_nodes[new_infected] = 0\n",
    "            \n",
    "            susceptible_neighbors[new_infected] = set()\n",
    "            for neighbor in graph.neighbors(new_infected):\n",
    "                if graph.nodes[neighbor][\"status\"] != 'i':\n",
    "                    susceptible_neighbors[new_infected].add(neighbor)\n",
    "                    infected_nodes[new_infected] += 1\n",
    "                    N_SI += 1\n",
    "                else:\n",
    "                    susceptible_neighbors[neighbor].discard(new_infected)\n",
    "                    infected_nodes[neighbor] -= 1\n",
    "                    N_SI -= 1\n",
    "                                \n",
    "            S -= 1\n",
    "            I += 1\n",
    "        \n",
    "        else:\n",
    "            # Recovery event\n",
    "            recovered_node = np.random.choice(array_infected_nodes[:,0])\n",
    "            graph.nodes[recovered_node][\"status\"] = \"s\"\n",
    "            infected_nodes.pop(recovered_node)\n",
    "            \n",
    "            for neighbor in graph.neighbors(recovered_node):\n",
    "                if graph.nodes[neighbor][\"status\"] != 'i':\n",
    "                    N_SI -= 1\n",
    "                else:\n",
    "                    susceptible_neighbors[neighbor].add(recovered_node)\n",
    "                    infected_nodes[neighbor] += 1\n",
    "                    N_SI += 1\n",
    "                    \n",
    "            S += 1\n",
    "            I -= 1\n",
    "                    \n",
    "        results.append((t, S, I))\n",
    "\n",
    "    return np.array(results)"
   ]
  },
  {
   "cell_type": "code",
   "execution_count": 37,
   "id": "2ccd3946",
   "metadata": {},
   "outputs": [],
   "source": [
    "population_size = 1000\n",
    "time_horizon = 50\n",
    "n_points = 1000\n",
    "\n",
    "network_power_scale = nx.barabasi_albert_graph(n=population_size, m=20)\n",
    "\n",
    "beta_mixed = 0.19\n",
    "beta_network = beta_mixed / np.array(network_power_scale.degree)[:,1].mean()\n",
    "gamma = 0.2\n",
    "\n",
    "i0 = 0.01\n",
    "\n",
    "solution = solve_ivp(fun=dy_dt, y0=(1-i0, i0), args=(beta_mixed, gamma),\n",
    "                     t_span=(0,time_horizon), \n",
    "                     t_eval=np.linspace(0,time_horizon,n_points))"
   ]
  },
  {
   "cell_type": "code",
   "execution_count": 38,
   "id": "dc42f9ba",
   "metadata": {},
   "outputs": [
    {
     "name": "stdout",
     "output_type": "stream",
     "text": [
      "t = 49.99\r"
     ]
    }
   ],
   "source": [
    "I0 = 10\n",
    "results = gillespie_sis(network_power_scale, beta_network, gamma, I0, time_horizon)"
   ]
  },
  {
   "cell_type": "code",
   "execution_count": 39,
   "id": "6954bc1a",
   "metadata": {},
   "outputs": [
    {
     "data": {
      "text/plain": [
       "[<matplotlib.lines.Line2D at 0x20fff7ead30>]"
      ]
     },
     "execution_count": 39,
     "metadata": {},
     "output_type": "execute_result"
    },
    {
     "data": {
      "image/png": "[encoded data removed]",
      "text/plain": [
       "<Figure size 432x288 with 1 Axes>"
      ]
     },
     "metadata": {
      "needs_background": "light"
     },
     "output_type": "display_data"
    }
   ],
   "source": [
    "plt.plot(results[:,0], results[:,2]/population_size)\n",
    "plt.plot(solution.t, solution.y[1,:])"
   ]
  },
  {
   "cell_type": "code",
   "execution_count": 35,
   "id": "6e2d02bf",
   "metadata": {},
   "outputs": [
    {
     "data": {
      "text/plain": [
       "0.02423469387755102"
      ]
     },
     "execution_count": 35,
     "metadata": {},
     "output_type": "execute_result"
    }
   ],
   "source": [
    "beta_mixed = 0.19\n",
    "beta_network = beta_mixed / np.array(network_power_scale.degree)[:,1].mean()\n",
    "\n",
    "beta_network/gamma"
   ]
  },
  {
   "cell_type": "code",
   "execution_count": 36,
   "id": "2e7ee322",
   "metadata": {},
   "outputs": [
    {
     "data": {
      "text/plain": [
       "0.041108934481586965"
      ]
     },
     "execution_count": 36,
     "metadata": {},
     "output_type": "execute_result"
    }
   ],
   "source": [
    "np.array(network_power_scale.degree)[:,1].mean()/(np.array(network_power_scale.degree)[:,1].var() + np.array(network_power_scale.degree)[:,1].mean())"
   ]
  }
 ],
 "metadata": {
  "kernelspec": {
   "display_name": "NetworkControl",
   "language": "python",
   "name": "networkcontrol"
  },
  "language_info": {
   "codemirror_mode": {
    "name": "ipython",
    "version": 3
   },
   "file_extension": ".py",
   "mimetype": "text/x-python",
   "name": "python",
   "nbconvert_exporter": "python",
   "pygments_lexer": "ipython3",
   "version": "3.9.12"
  }
 },
 "nbformat": 4,
 "nbformat_minor": 5
}
